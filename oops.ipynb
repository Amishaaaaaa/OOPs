{
 "cells": [
  {
   "cell_type": "code",
   "execution_count": 1,
   "id": "fdca8447-672e-4ce1-a98e-55cc55a6ef20",
   "metadata": {},
   "outputs": [],
   "source": [
    "'''Q1, Create a vehicle class with an init method having instance variables as name_of_vehicle, max_speed\n",
    "and average_of_vehicle.'''\n",
    "\n",
    "class vehicle:\n",
    "    def __init__(self,name_of_vehicle,max_speed,average_of_vehicle):\n",
    "        self.name_of_vehicle=name_of_vehicle\n",
    "        self.max_speed=max_speed\n",
    "        self.average_of_vehicle=average_of_vehicle\n",
    "        "
   ]
  },
  {
   "cell_type": "code",
   "execution_count": 2,
   "id": "cf78ac5f-55e8-4379-8570-63873a4eb1d3",
   "metadata": {},
   "outputs": [],
   "source": [
    "'''Q2. Create a child class car from the vehicle class created in Que 1, which will inherit the vehicle class.\n",
    "Create a method named seating_capacity which takes capacity as an argument and returns the name of\n",
    "the vehicle and its seating capacity.'''\n",
    "\n",
    "class car(vehicle):\n",
    "    def seating_capacity(self,capacity):\n",
    "        return self.name_of_vehicle,self.capacity"
   ]
  },
  {
   "cell_type": "code",
   "execution_count": 13,
   "id": "ed27385f-f4e8-489c-bd4f-a45f9f1c8abe",
   "metadata": {},
   "outputs": [],
   "source": [
    "'''Q3. What is multiple inheritance? Write a python code to demonstrate multiple inheritance.'''\n",
    "'''Multiple inheritance is a feature in object-oriented programming languages that allows a class to inherit attributes and behaviors \n",
    "from multiple parent classes. In other words, a class can have more than one direct superclass.'''\n",
    "class class1:\n",
    "    def test1():\n",
    "        return \"This is 1st class\"\n",
    "\n",
    "class class2:\n",
    "    def test2():\n",
    "        return \"This is 2nd class\"\n",
    "\n",
    "class class3(class1,class2):\n",
    "    pass\n",
    "    "
   ]
  },
  {
   "cell_type": "code",
   "execution_count": 14,
   "id": "1946e4a1-875a-48b6-b629-afd2db447fd4",
   "metadata": {},
   "outputs": [],
   "source": [
    "'''Q4. What are getter and setter in python? Create a class and create a getter and a setter method in this\n",
    "class.'''\n",
    "\n",
    "'''\n",
    "In Python, getter and setter methods are used to access and modify the values of instance variables (attributes) of a class. \n",
    "They provide an interface for getting and setting the values of private variables and allow for better control over attribute access.'''\n",
    "\n",
    "class person:\n",
    "    def __init__(self,name,age):\n",
    "        self.__name=name\n",
    "        self.__age=age\n",
    "    \n",
    "    def get_name(self):\n",
    "        return self.__name\n",
    "    def set_name(self,name):\n",
    "        self.__name=name\n",
    "\n"
   ]
  },
  {
   "cell_type": "code",
   "execution_count": 15,
   "id": "7e50f10e-17e3-4f08-a6e4-a811285602a0",
   "metadata": {},
   "outputs": [],
   "source": [
    "'''Q5.What is method overriding in python? Write a python code to demonstrate method overriding.'''\n",
    "\n",
    "'''Method overriding in Python is a concept where a derived class provides its own implementation of a method that is already \n",
    "defined in its base class. The derived class overrides the method to customize its behavior, providing a different implementation\n",
    "specific to its needs'''\n",
    "\n",
    "import abc\n",
    "class student:\n",
    "    @abc.abstractmethod\n",
    "    def stu_remarks(self):\n",
    "        return \"The student got good marks\"\n",
    "\n",
    "class grade1(student):\n",
    "    def stu_remarks(self):\n",
    "        return \"Very good\"\n",
    "\n",
    "class grade3(student):\n",
    "    def stu_remarks(self):\n",
    "        return \"Needs to improve\""
   ]
  },
  {
   "cell_type": "code",
   "execution_count": null,
   "id": "124ed64e-6b46-46a8-a0ff-0dcf89f2425a",
   "metadata": {},
   "outputs": [],
   "source": []
  }
 ],
 "metadata": {
  "kernelspec": {
   "display_name": "Python 3 (ipykernel)",
   "language": "python",
   "name": "python3"
  },
  "language_info": {
   "codemirror_mode": {
    "name": "ipython",
    "version": 3
   },
   "file_extension": ".py",
   "mimetype": "text/x-python",
   "name": "python",
   "nbconvert_exporter": "python",
   "pygments_lexer": "ipython3",
   "version": "3.10.8"
  }
 },
 "nbformat": 4,
 "nbformat_minor": 5
}
